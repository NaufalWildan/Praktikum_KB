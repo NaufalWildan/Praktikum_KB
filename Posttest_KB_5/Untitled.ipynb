{
 "cells": [
  {
   "cell_type": "markdown",
   "id": "f8bf1225",
   "metadata": {},
   "source": [
    "## Nama : Muhammad Naufal Wildan\n",
    "## NIM    : 2009106037\n",
    "## Kelas : Informatika A 2020\n",
    "## POSTTETS 5"
   ]
  },
  {
   "cell_type": "code",
   "execution_count": 1,
   "id": "54a294c9",
   "metadata": {},
   "outputs": [],
   "source": [
    "import pandas as pd\n",
    "import seaborn as sns"
   ]
  },
  {
   "cell_type": "code",
   "execution_count": 2,
   "id": "3cc0f662",
   "metadata": {},
   "outputs": [],
   "source": [
    "df = pd.read_csv(\"international_matches.csv\")"
   ]
  },
  {
   "cell_type": "code",
   "execution_count": 3,
   "id": "1c47710f",
   "metadata": {
    "scrolled": true
   },
   "outputs": [
    {
     "data": {
      "text/html": [
       "<div>\n",
       "<style scoped>\n",
       "    .dataframe tbody tr th:only-of-type {\n",
       "        vertical-align: middle;\n",
       "    }\n",
       "\n",
       "    .dataframe tbody tr th {\n",
       "        vertical-align: top;\n",
       "    }\n",
       "\n",
       "    .dataframe thead th {\n",
       "        text-align: right;\n",
       "    }\n",
       "</style>\n",
       "<table border=\"1\" class=\"dataframe\">\n",
       "  <thead>\n",
       "    <tr style=\"text-align: right;\">\n",
       "      <th></th>\n",
       "      <th>date</th>\n",
       "      <th>home_team</th>\n",
       "      <th>away_team</th>\n",
       "      <th>home_team_continent</th>\n",
       "      <th>away_team_continent</th>\n",
       "      <th>home_team_fifa_rank</th>\n",
       "      <th>away_team_fifa_rank</th>\n",
       "      <th>home_team_total_fifa_points</th>\n",
       "      <th>away_team_total_fifa_points</th>\n",
       "      <th>home_team_score</th>\n",
       "      <th>...</th>\n",
       "      <th>shoot_out</th>\n",
       "      <th>home_team_result</th>\n",
       "      <th>home_team_goalkeeper_score</th>\n",
       "      <th>away_team_goalkeeper_score</th>\n",
       "      <th>home_team_mean_defense_score</th>\n",
       "      <th>home_team_mean_offense_score</th>\n",
       "      <th>home_team_mean_midfield_score</th>\n",
       "      <th>away_team_mean_defense_score</th>\n",
       "      <th>away_team_mean_offense_score</th>\n",
       "      <th>away_team_mean_midfield_score</th>\n",
       "    </tr>\n",
       "  </thead>\n",
       "  <tbody>\n",
       "    <tr>\n",
       "      <th>0</th>\n",
       "      <td>1993-08-08</td>\n",
       "      <td>NaN</td>\n",
       "      <td>Uruguay</td>\n",
       "      <td>South America</td>\n",
       "      <td>South America</td>\n",
       "      <td>59</td>\n",
       "      <td>22</td>\n",
       "      <td>0</td>\n",
       "      <td>0</td>\n",
       "      <td>3</td>\n",
       "      <td>...</td>\n",
       "      <td>No</td>\n",
       "      <td>Win</td>\n",
       "      <td>NaN</td>\n",
       "      <td>NaN</td>\n",
       "      <td>NaN</td>\n",
       "      <td>NaN</td>\n",
       "      <td>NaN</td>\n",
       "      <td>NaN</td>\n",
       "      <td>NaN</td>\n",
       "      <td>NaN</td>\n",
       "    </tr>\n",
       "    <tr>\n",
       "      <th>1</th>\n",
       "      <td>1993-08-08</td>\n",
       "      <td>NaN</td>\n",
       "      <td>Mexico</td>\n",
       "      <td>South America</td>\n",
       "      <td>North America</td>\n",
       "      <td>8</td>\n",
       "      <td>14</td>\n",
       "      <td>0</td>\n",
       "      <td>0</td>\n",
       "      <td>1</td>\n",
       "      <td>...</td>\n",
       "      <td>No</td>\n",
       "      <td>Draw</td>\n",
       "      <td>NaN</td>\n",
       "      <td>NaN</td>\n",
       "      <td>NaN</td>\n",
       "      <td>NaN</td>\n",
       "      <td>NaN</td>\n",
       "      <td>NaN</td>\n",
       "      <td>NaN</td>\n",
       "      <td>NaN</td>\n",
       "    </tr>\n",
       "    <tr>\n",
       "      <th>2</th>\n",
       "      <td>1993-08-08</td>\n",
       "      <td>NaN</td>\n",
       "      <td>Venezuela</td>\n",
       "      <td>South America</td>\n",
       "      <td>South America</td>\n",
       "      <td>35</td>\n",
       "      <td>94</td>\n",
       "      <td>0</td>\n",
       "      <td>0</td>\n",
       "      <td>5</td>\n",
       "      <td>...</td>\n",
       "      <td>No</td>\n",
       "      <td>Win</td>\n",
       "      <td>NaN</td>\n",
       "      <td>NaN</td>\n",
       "      <td>NaN</td>\n",
       "      <td>NaN</td>\n",
       "      <td>NaN</td>\n",
       "      <td>NaN</td>\n",
       "      <td>NaN</td>\n",
       "      <td>NaN</td>\n",
       "    </tr>\n",
       "    <tr>\n",
       "      <th>3</th>\n",
       "      <td>1993-08-08</td>\n",
       "      <td>NaN</td>\n",
       "      <td>Sierra Leone</td>\n",
       "      <td>Africa</td>\n",
       "      <td>Africa</td>\n",
       "      <td>65</td>\n",
       "      <td>86</td>\n",
       "      <td>0</td>\n",
       "      <td>0</td>\n",
       "      <td>1</td>\n",
       "      <td>...</td>\n",
       "      <td>No</td>\n",
       "      <td>Win</td>\n",
       "      <td>NaN</td>\n",
       "      <td>NaN</td>\n",
       "      <td>NaN</td>\n",
       "      <td>NaN</td>\n",
       "      <td>NaN</td>\n",
       "      <td>NaN</td>\n",
       "      <td>NaN</td>\n",
       "      <td>NaN</td>\n",
       "    </tr>\n",
       "    <tr>\n",
       "      <th>4</th>\n",
       "      <td>1993-08-08</td>\n",
       "      <td>NaN</td>\n",
       "      <td>Argentina</td>\n",
       "      <td>South America</td>\n",
       "      <td>South America</td>\n",
       "      <td>67</td>\n",
       "      <td>5</td>\n",
       "      <td>0</td>\n",
       "      <td>0</td>\n",
       "      <td>1</td>\n",
       "      <td>...</td>\n",
       "      <td>No</td>\n",
       "      <td>Lose</td>\n",
       "      <td>NaN</td>\n",
       "      <td>NaN</td>\n",
       "      <td>NaN</td>\n",
       "      <td>NaN</td>\n",
       "      <td>NaN</td>\n",
       "      <td>NaN</td>\n",
       "      <td>NaN</td>\n",
       "      <td>NaN</td>\n",
       "    </tr>\n",
       "  </tbody>\n",
       "</table>\n",
       "<p>5 rows × 25 columns</p>\n",
       "</div>"
      ],
      "text/plain": [
       "         date home_team     away_team home_team_continent away_team_continent  \\\n",
       "0  1993-08-08       NaN       Uruguay       South America       South America   \n",
       "1  1993-08-08       NaN        Mexico       South America       North America   \n",
       "2  1993-08-08       NaN     Venezuela       South America       South America   \n",
       "3  1993-08-08       NaN  Sierra Leone              Africa              Africa   \n",
       "4  1993-08-08       NaN     Argentina       South America       South America   \n",
       "\n",
       "   home_team_fifa_rank  away_team_fifa_rank  home_team_total_fifa_points  \\\n",
       "0                   59                   22                            0   \n",
       "1                    8                   14                            0   \n",
       "2                   35                   94                            0   \n",
       "3                   65                   86                            0   \n",
       "4                   67                    5                            0   \n",
       "\n",
       "   away_team_total_fifa_points  home_team_score  ...  shoot_out  \\\n",
       "0                            0                3  ...         No   \n",
       "1                            0                1  ...         No   \n",
       "2                            0                5  ...         No   \n",
       "3                            0                1  ...         No   \n",
       "4                            0                1  ...         No   \n",
       "\n",
       "  home_team_result home_team_goalkeeper_score away_team_goalkeeper_score  \\\n",
       "0              Win                        NaN                        NaN   \n",
       "1             Draw                        NaN                        NaN   \n",
       "2              Win                        NaN                        NaN   \n",
       "3              Win                        NaN                        NaN   \n",
       "4             Lose                        NaN                        NaN   \n",
       "\n",
       "   home_team_mean_defense_score home_team_mean_offense_score  \\\n",
       "0                           NaN                          NaN   \n",
       "1                           NaN                          NaN   \n",
       "2                           NaN                          NaN   \n",
       "3                           NaN                          NaN   \n",
       "4                           NaN                          NaN   \n",
       "\n",
       "  home_team_mean_midfield_score  away_team_mean_defense_score  \\\n",
       "0                           NaN                           NaN   \n",
       "1                           NaN                           NaN   \n",
       "2                           NaN                           NaN   \n",
       "3                           NaN                           NaN   \n",
       "4                           NaN                           NaN   \n",
       "\n",
       "   away_team_mean_offense_score  away_team_mean_midfield_score  \n",
       "0                           NaN                            NaN  \n",
       "1                           NaN                            NaN  \n",
       "2                           NaN                            NaN  \n",
       "3                           NaN                            NaN  \n",
       "4                           NaN                            NaN  \n",
       "\n",
       "[5 rows x 25 columns]"
      ]
     },
     "execution_count": 3,
     "metadata": {},
     "output_type": "execute_result"
    }
   ],
   "source": [
    "df.head()"
   ]
  },
  {
   "cell_type": "code",
   "execution_count": 6,
   "id": "78bdff6e",
   "metadata": {},
   "outputs": [
    {
     "data": {
      "text/plain": [
       "array(['Win', 'Draw', 'Lose'], dtype=object)"
      ]
     },
     "execution_count": 6,
     "metadata": {},
     "output_type": "execute_result"
    }
   ],
   "source": [
    "df['home_team_result'].unique()"
   ]
  },
  {
   "cell_type": "markdown",
   "id": "e8e8005a",
   "metadata": {},
   "source": [
    "## Data Splitting\n"
   ]
  },
  {
   "cell_type": "code",
   "execution_count": 7,
   "id": "b84e0753",
   "metadata": {},
   "outputs": [],
   "source": [
    "X = df[['home_team_fifa_rank','away_team_fifa_rank', 'away_team_score']]\n",
    "Y = df['home_team_result']"
   ]
  },
  {
   "cell_type": "code",
   "execution_count": 8,
   "id": "5e3dc45c",
   "metadata": {},
   "outputs": [],
   "source": [
    "from sklearn.model_selection import train_test_split"
   ]
  },
  {
   "cell_type": "code",
   "execution_count": 9,
   "id": "e21c6aac",
   "metadata": {},
   "outputs": [],
   "source": [
    "X_train, X_test, Y_train, Y_test = train_test_split(X,Y, test_size=0.2, random_state=0)"
   ]
  },
  {
   "cell_type": "markdown",
   "id": "fb5c28f1",
   "metadata": {},
   "source": [
    "## Gunakan 3 Algoritma untuk membandingkan score/hasil terbaiknya."
   ]
  },
  {
   "cell_type": "markdown",
   "id": "e7edec46",
   "metadata": {},
   "source": [
    "## 1. Algoritma K-Nearest Neighbor"
   ]
  },
  {
   "cell_type": "code",
   "execution_count": 10,
   "id": "2c756efe",
   "metadata": {},
   "outputs": [],
   "source": [
    "from sklearn.neighbors import KNeighborsClassifier"
   ]
  },
  {
   "cell_type": "code",
   "execution_count": 11,
   "id": "2c531183",
   "metadata": {},
   "outputs": [],
   "source": [
    "modelKNN = KNeighborsClassifier(n_neighbors = 5)"
   ]
  },
  {
   "cell_type": "code",
   "execution_count": 12,
   "id": "4d5d6090",
   "metadata": {},
   "outputs": [
    {
     "data": {
      "text/html": [
       "<style>#sk-container-id-1 {color: black;background-color: white;}#sk-container-id-1 pre{padding: 0;}#sk-container-id-1 div.sk-toggleable {background-color: white;}#sk-container-id-1 label.sk-toggleable__label {cursor: pointer;display: block;width: 100%;margin-bottom: 0;padding: 0.3em;box-sizing: border-box;text-align: center;}#sk-container-id-1 label.sk-toggleable__label-arrow:before {content: \"▸\";float: left;margin-right: 0.25em;color: #696969;}#sk-container-id-1 label.sk-toggleable__label-arrow:hover:before {color: black;}#sk-container-id-1 div.sk-estimator:hover label.sk-toggleable__label-arrow:before {color: black;}#sk-container-id-1 div.sk-toggleable__content {max-height: 0;max-width: 0;overflow: hidden;text-align: left;background-color: #f0f8ff;}#sk-container-id-1 div.sk-toggleable__content pre {margin: 0.2em;color: black;border-radius: 0.25em;background-color: #f0f8ff;}#sk-container-id-1 input.sk-toggleable__control:checked~div.sk-toggleable__content {max-height: 200px;max-width: 100%;overflow: auto;}#sk-container-id-1 input.sk-toggleable__control:checked~label.sk-toggleable__label-arrow:before {content: \"▾\";}#sk-container-id-1 div.sk-estimator input.sk-toggleable__control:checked~label.sk-toggleable__label {background-color: #d4ebff;}#sk-container-id-1 div.sk-label input.sk-toggleable__control:checked~label.sk-toggleable__label {background-color: #d4ebff;}#sk-container-id-1 input.sk-hidden--visually {border: 0;clip: rect(1px 1px 1px 1px);clip: rect(1px, 1px, 1px, 1px);height: 1px;margin: -1px;overflow: hidden;padding: 0;position: absolute;width: 1px;}#sk-container-id-1 div.sk-estimator {font-family: monospace;background-color: #f0f8ff;border: 1px dotted black;border-radius: 0.25em;box-sizing: border-box;margin-bottom: 0.5em;}#sk-container-id-1 div.sk-estimator:hover {background-color: #d4ebff;}#sk-container-id-1 div.sk-parallel-item::after {content: \"\";width: 100%;border-bottom: 1px solid gray;flex-grow: 1;}#sk-container-id-1 div.sk-label:hover label.sk-toggleable__label {background-color: #d4ebff;}#sk-container-id-1 div.sk-serial::before {content: \"\";position: absolute;border-left: 1px solid gray;box-sizing: border-box;top: 0;bottom: 0;left: 50%;z-index: 0;}#sk-container-id-1 div.sk-serial {display: flex;flex-direction: column;align-items: center;background-color: white;padding-right: 0.2em;padding-left: 0.2em;position: relative;}#sk-container-id-1 div.sk-item {position: relative;z-index: 1;}#sk-container-id-1 div.sk-parallel {display: flex;align-items: stretch;justify-content: center;background-color: white;position: relative;}#sk-container-id-1 div.sk-item::before, #sk-container-id-1 div.sk-parallel-item::before {content: \"\";position: absolute;border-left: 1px solid gray;box-sizing: border-box;top: 0;bottom: 0;left: 50%;z-index: -1;}#sk-container-id-1 div.sk-parallel-item {display: flex;flex-direction: column;z-index: 1;position: relative;background-color: white;}#sk-container-id-1 div.sk-parallel-item:first-child::after {align-self: flex-end;width: 50%;}#sk-container-id-1 div.sk-parallel-item:last-child::after {align-self: flex-start;width: 50%;}#sk-container-id-1 div.sk-parallel-item:only-child::after {width: 0;}#sk-container-id-1 div.sk-dashed-wrapped {border: 1px dashed gray;margin: 0 0.4em 0.5em 0.4em;box-sizing: border-box;padding-bottom: 0.4em;background-color: white;}#sk-container-id-1 div.sk-label label {font-family: monospace;font-weight: bold;display: inline-block;line-height: 1.2em;}#sk-container-id-1 div.sk-label-container {text-align: center;}#sk-container-id-1 div.sk-container {/* jupyter's `normalize.less` sets `[hidden] { display: none; }` but bootstrap.min.css set `[hidden] { display: none !important; }` so we also need the `!important` here to be able to override the default hidden behavior on the sphinx rendered scikit-learn.org. See: https://github.com/scikit-learn/scikit-learn/issues/21755 */display: inline-block !important;position: relative;}#sk-container-id-1 div.sk-text-repr-fallback {display: none;}</style><div id=\"sk-container-id-1\" class=\"sk-top-container\"><div class=\"sk-text-repr-fallback\"><pre>KNeighborsClassifier()</pre><b>In a Jupyter environment, please rerun this cell to show the HTML representation or trust the notebook. <br />On GitHub, the HTML representation is unable to render, please try loading this page with nbviewer.org.</b></div><div class=\"sk-container\" hidden><div class=\"sk-item\"><div class=\"sk-estimator sk-toggleable\"><input class=\"sk-toggleable__control sk-hidden--visually\" id=\"sk-estimator-id-1\" type=\"checkbox\" checked><label for=\"sk-estimator-id-1\" class=\"sk-toggleable__label sk-toggleable__label-arrow\">KNeighborsClassifier</label><div class=\"sk-toggleable__content\"><pre>KNeighborsClassifier()</pre></div></div></div></div></div>"
      ],
      "text/plain": [
       "KNeighborsClassifier()"
      ]
     },
     "execution_count": 12,
     "metadata": {},
     "output_type": "execute_result"
    }
   ],
   "source": [
    "modelKNN.fit(X_train, Y_train)"
   ]
  },
  {
   "cell_type": "code",
   "execution_count": 13,
   "id": "1dc1abdc",
   "metadata": {},
   "outputs": [],
   "source": [
    "modelKNNpredict = modelKNN.predict(X_test)"
   ]
  },
  {
   "cell_type": "code",
   "execution_count": 15,
   "id": "9e4b653f",
   "metadata": {},
   "outputs": [
    {
     "name": "stdout",
     "output_type": "stream",
     "text": [
      "Akurasi Training menggunakan KNN : 0.7185034226890317\n",
      "Akurasi Test menggunakan KNN : 0.5715778474399164\n"
     ]
    }
   ],
   "source": [
    "print(f'Akurasi Training menggunakan KNN : {modelKNN.score(X_train, Y_train)}')\n",
    "print(f'Akurasi Test menggunakan KNN : {modelKNN.score(X_test, Y_test)}')"
   ]
  },
  {
   "cell_type": "markdown",
   "id": "c67d5fbb",
   "metadata": {},
   "source": [
    "## 2. Algoritma Naive Bayes"
   ]
  },
  {
   "cell_type": "code",
   "execution_count": 16,
   "id": "2560a868",
   "metadata": {},
   "outputs": [],
   "source": [
    "from sklearn.naive_bayes import GaussianNB\n",
    "from sklearn.metrics import accuracy_score"
   ]
  },
  {
   "cell_type": "code",
   "execution_count": 17,
   "id": "86defc0f",
   "metadata": {},
   "outputs": [],
   "source": [
    "GNB = GaussianNB().fit(X_train, Y_train)"
   ]
  },
  {
   "cell_type": "code",
   "execution_count": 18,
   "id": "62bd9315",
   "metadata": {},
   "outputs": [],
   "source": [
    "GNBpredict = GNB.predict(X_test)"
   ]
  },
  {
   "cell_type": "code",
   "execution_count": 19,
   "id": "354293d4",
   "metadata": {},
   "outputs": [
    {
     "name": "stdout",
     "output_type": "stream",
     "text": [
      "Akurasi dari Gaussian Naive Bayes :\n"
     ]
    },
    {
     "data": {
      "text/plain": [
       "0.6633228840125391"
      ]
     },
     "execution_count": 19,
     "metadata": {},
     "output_type": "execute_result"
    }
   ],
   "source": [
    "print(\"Akurasi dari Gaussian Naive Bayes :\")\n",
    "accuracy_score(GNBpredict, Y_test)"
   ]
  },
  {
   "cell_type": "markdown",
   "id": "d786ef36",
   "metadata": {},
   "source": [
    "## 3. Algoritma Support Vector Machine (SVM)"
   ]
  },
  {
   "cell_type": "code",
   "execution_count": 20,
   "id": "81ad84ff",
   "metadata": {},
   "outputs": [],
   "source": [
    "from sklearn.svm import SVC"
   ]
  },
  {
   "cell_type": "code",
   "execution_count": 21,
   "id": "6fbe37a6",
   "metadata": {},
   "outputs": [],
   "source": [
    "SVC = SVC().fit(X_train, Y_train)\n",
    "SVC_predict = SVC.predict(X_test)"
   ]
  },
  {
   "cell_type": "code",
   "execution_count": 22,
   "id": "d470c5bc",
   "metadata": {},
   "outputs": [
    {
     "name": "stdout",
     "output_type": "stream",
     "text": [
      "Akurasi Training menggunakan SVM : 0.6368814338715577\n",
      "Akurasi Test menggunakan SVM : 0.6334378265412748\n"
     ]
    }
   ],
   "source": [
    "print(f'Akurasi Training menggunakan SVM : {SVC.score(X_train, Y_train)}')\n",
    "print(f'Akurasi Test menggunakan SVM : {SVC.score(X_test, Y_test)}')"
   ]
  },
  {
   "cell_type": "markdown",
   "id": "fcf15c1d",
   "metadata": {},
   "source": [
    "## Perbandingan SCORE dari berbagai Algoritma"
   ]
  },
  {
   "cell_type": "code",
   "execution_count": 26,
   "id": "9e0d7eb3",
   "metadata": {},
   "outputs": [
    {
     "name": "stdout",
     "output_type": "stream",
     "text": [
      "------------------------ K N N ------------------------------------\n",
      "Akurasi Training menggunakan KNN : 0.7185034226890317\n",
      "Akurasi Test menggunakan KNN : 0.5715778474399164\n",
      "\n",
      "\n",
      "----------------------  Naive Bayes -------------------------------\n",
      "Akurasi dari Gaussian Naive Bayes : 0.6633228840125391\n",
      "\n",
      "\n",
      "--------------------------- SVM ------------------------------------\n",
      "Akurasi Training menggunakan SVM : 0.6368814338715577\n",
      "Akurasi Test menggunakan SVM : 0.6334378265412748\n"
     ]
    }
   ],
   "source": [
    "print(\"------------------------ K N N ------------------------------------\")\n",
    "print(f'Akurasi Training menggunakan KNN : {modelKNN.score(X_train, Y_train)}')\n",
    "print(f'Akurasi Test menggunakan KNN : {modelKNN.score(X_test, Y_test)}')\n",
    "print(\"\\n\")\n",
    "print(\"----------------------  Naive Bayes -------------------------------\")\n",
    "print(f'Akurasi dari Gaussian Naive Bayes : {accuracy_score(GNBpredict, Y_test)}')\n",
    "\n",
    "print(\"\\n\")\n",
    "print(\"--------------------------- SVM ------------------------------------\")\n",
    "print(f'Akurasi Training menggunakan SVM : {SVC.score(X_train, Y_train)}')\n",
    "print(f'Akurasi Test menggunakan SVM : {SVC.score(X_test, Y_test)}')"
   ]
  },
  {
   "cell_type": "markdown",
   "id": "69e535c3",
   "metadata": {},
   "source": [
    "## Tampilkan score dari model-model tersebut untuk classification"
   ]
  },
  {
   "cell_type": "code",
   "execution_count": 27,
   "id": "82c1f48f",
   "metadata": {},
   "outputs": [],
   "source": [
    "from sklearn.metrics import classification_report"
   ]
  },
  {
   "cell_type": "code",
   "execution_count": 32,
   "id": "c211ff99",
   "metadata": {},
   "outputs": [
    {
     "name": "stdout",
     "output_type": "stream",
     "text": [
      "=================================================================\n",
      "\t \t      Classification Report\n",
      "================================================================\n",
      "\t \t     | K- Nearest Neighbor |\n",
      "              precision    recall  f1-score   support\n",
      "\n",
      "        Draw       0.29      0.29      0.29      1073\n",
      "        Lose       0.59      0.57      0.58      1305\n",
      "         Win       0.69      0.70      0.69      2407\n",
      "\n",
      "    accuracy                           0.57      4785\n",
      "   macro avg       0.52      0.52      0.52      4785\n",
      "weighted avg       0.57      0.57      0.57      4785\n",
      "\n",
      "\n",
      "\n",
      "================================================================\n",
      "\t \t     | Naive Bayes |\n",
      "              precision    recall  f1-score   support\n",
      "\n",
      "        Draw       0.40      0.00      0.01      1073\n",
      "        Lose       0.71      0.72      0.72      1305\n",
      "         Win       0.65      0.93      0.76      2407\n",
      "\n",
      "    accuracy                           0.66      4785\n",
      "   macro avg       0.59      0.55      0.49      4785\n",
      "weighted avg       0.61      0.66      0.58      4785\n",
      "\n",
      "\n",
      "\n",
      "================================================================\n",
      "\t \t \t   | SVM |\n",
      "              precision    recall  f1-score   support\n",
      "\n",
      "        Draw       1.00      0.00      0.00      1073\n",
      "        Lose       0.66      0.61      0.63      1305\n",
      "         Win       0.63      0.93      0.75      2407\n",
      "\n",
      "    accuracy                           0.63      4785\n",
      "   macro avg       0.76      0.51      0.46      4785\n",
      "weighted avg       0.72      0.63      0.55      4785\n",
      "\n"
     ]
    }
   ],
   "source": [
    "print(\"=================================================================\")\n",
    "print(\"\\t \\t      Classification Report\")\n",
    "print(\"================================================================\")\n",
    "print(\"\\t \\t     | K- Nearest Neighbor |\")\n",
    "print(classification_report (Y_test, modelKNNpredict))\n",
    "print(\"\\n\")\n",
    "print(\"================================================================\")\n",
    "print(\"\\t \\t     | Naive Bayes |\")\n",
    "print(classification_report (Y_test, GNBpredict))\n",
    "print(\"\\n\")\n",
    "print(\"================================================================\")\n",
    "print(\"\\t \\t \\t   | SVM |\")\n",
    "print(classification_report (Y_test, SVC_predict))"
   ]
  },
  {
   "cell_type": "code",
   "execution_count": null,
   "id": "f08cb334",
   "metadata": {},
   "outputs": [],
   "source": []
  }
 ],
 "metadata": {
  "kernelspec": {
   "display_name": "Python 3 (ipykernel)",
   "language": "python",
   "name": "python3"
  },
  "language_info": {
   "codemirror_mode": {
    "name": "ipython",
    "version": 3
   },
   "file_extension": ".py",
   "mimetype": "text/x-python",
   "name": "python",
   "nbconvert_exporter": "python",
   "pygments_lexer": "ipython3",
   "version": "3.10.7"
  }
 },
 "nbformat": 4,
 "nbformat_minor": 5
}
